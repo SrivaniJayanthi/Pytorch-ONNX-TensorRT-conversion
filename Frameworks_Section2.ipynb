{
 "cells": [
  {
   "cell_type": "code",
   "execution_count": 33,
   "metadata": {},
   "outputs": [],
   "source": [
    "import torch\n",
    "device = torch.device(\"cuda:0\" if torch.cuda.is_available() else \"cpu\")"
   ]
  },
  {
   "cell_type": "markdown",
   "metadata": {},
   "source": [
    "DATASET"
   ]
  },
  {
   "cell_type": "code",
   "execution_count": 34,
   "metadata": {},
   "outputs": [
    {
     "name": "stdout",
     "output_type": "stream",
     "text": [
      "Files already downloaded and verified\n",
      "Files already downloaded and verified\n"
     ]
    }
   ],
   "source": [
    "import torch\n",
    "from torchvision import datasets, transforms\n",
    "\n",
    "# Define the transformation for the training set (with data augmentation)\n",
    "transform_train = transforms.Compose([\n",
    "    transforms.Resize((32, 32)),\n",
    "    transforms.RandomHorizontalFlip(),\n",
    "    transforms.RandomRotation(10),\n",
    "    transforms.RandomAffine(0, shear=10, scale=(0.8, 1.2)),\n",
    "    transforms.ColorJitter(brightness=0.2, contrast=0.2, saturation=0.2),\n",
    "    transforms.ToTensor(),\n",
    "    transforms.Normalize((0.5, 0.5, 0.5), (0.5, 0.5, 0.5))\n",
    "])\n",
    "\n",
    "# Define the transformation for the validation set (without augmentation)\n",
    "transform = transforms.Compose([\n",
    "    transforms.Resize((32, 32)),\n",
    "    transforms.ToTensor(),\n",
    "    transforms.Normalize((0.5, 0.5, 0.5), (0.5, 0.5, 0.5))\n",
    "])\n",
    "\n",
    "# Load CIFAR-10 dataset with transformations\n",
    "training_dataset = datasets.CIFAR10(root='./data', train=True, download=True, transform=transform_train)\n",
    "validation_dataset = datasets.CIFAR10(root='./data', train=False, download=True, transform=transform)\n",
    "\n",
    "# Data loaders\n",
    "training_loader = torch.utils.data.DataLoader(training_dataset, batch_size=100, shuffle=True)\n",
    "validation_loader = torch.utils.data.DataLoader(validation_dataset, batch_size=100, shuffle=False)\n"
   ]
  },
  {
   "cell_type": "markdown",
   "metadata": {},
   "source": [
    "CNN MODEL"
   ]
  },
  {
   "cell_type": "code",
   "execution_count": 35,
   "metadata": {},
   "outputs": [],
   "source": [
    "import torch\n",
    "import torch.nn as nn\n",
    "import torch.nn.functional as F\n",
    "\n",
    "class CNN(nn.Module):\n",
    "    def __init__(self):\n",
    "        super(CNN, self).__init__()\n",
    "        \n",
    "        # Convolutional Layers with Batch Normalization\n",
    "        self.conv1 = nn.Conv2d(3, 64, kernel_size=3, padding=1)  # Input channels: 3, Output channels: 64\n",
    "        self.bn1 = nn.BatchNorm2d(64)\n",
    "        \n",
    "        self.conv2 = nn.Conv2d(64, 128, kernel_size=3, padding=1)  # Input channels: 64, Output channels: 128\n",
    "        self.bn2 = nn.BatchNorm2d(128)\n",
    "        \n",
    "        self.conv3 = nn.Conv2d(128, 256, kernel_size=3, padding=1)  # Input channels: 128, Output channels: 256\n",
    "        self.bn3 = nn.BatchNorm2d(256)\n",
    "        \n",
    "        # Pooling Layer\n",
    "        self.pool = nn.MaxPool2d(2, 2)\n",
    "        \n",
    "        # Fully Connected Layers\n",
    "        self.fc1 = nn.Linear(256 * 4 * 4, 1024)  # Input size: 256x4x4, Output size: 1024\n",
    "        self.bn_fc1 = nn.BatchNorm1d(1024)\n",
    "        \n",
    "        self.fc2 = nn.Linear(1024, 10)  # Output size: 10 (number of classes)\n",
    "        \n",
    "    def forward(self, x):\n",
    "        x = self.pool(F.relu(self.bn1(self.conv1(x))))\n",
    "        x = self.pool(F.relu(self.bn2(self.conv2(x))))\n",
    "        x = self.pool(F.relu(self.bn3(self.conv3(x))))\n",
    "        \n",
    "        # Flatten the image\n",
    "        x = x.view(-1, 256 * 4 * 4)\n",
    "        \n",
    "        # Fully connected layers with Batch Normalization\n",
    "        x = F.relu(self.bn_fc1(self.fc1(x)))\n",
    "        \n",
    "        x = self.fc2(x)\n",
    "        return x\n"
   ]
  },
  {
   "cell_type": "markdown",
   "metadata": {},
   "source": [
    "MODEL LOADING"
   ]
  },
  {
   "cell_type": "code",
   "execution_count": 36,
   "metadata": {},
   "outputs": [
    {
     "name": "stderr",
     "output_type": "stream",
     "text": [
      "C:\\Users\\7501\\AppData\\Local\\Temp\\ipykernel_21984\\1076258511.py:5: FutureWarning: You are using `torch.load` with `weights_only=False` (the current default value), which uses the default pickle module implicitly. It is possible to construct malicious pickle data which will execute arbitrary code during unpickling (See https://github.com/pytorch/pytorch/blob/main/SECURITY.md#untrusted-models for more details). In a future release, the default value for `weights_only` will be flipped to `True`. This limits the functions that could be executed during unpickling. Arbitrary objects will no longer be allowed to be loaded via this mode unless they are explicitly allowlisted by the user via `torch.serialization.add_safe_globals`. We recommend you start setting `weights_only=True` for any use case where you don't have full control of the loaded file. Please open an issue on GitHub for any issues related to this experimental feature.\n",
      "  model.load_state_dict(torch.load(\"best_model_final.pth\"))\n"
     ]
    },
    {
     "data": {
      "text/plain": [
       "CNN(\n",
       "  (conv1): Conv2d(3, 64, kernel_size=(3, 3), stride=(1, 1), padding=(1, 1))\n",
       "  (bn1): BatchNorm2d(64, eps=1e-05, momentum=0.1, affine=True, track_running_stats=True)\n",
       "  (conv2): Conv2d(64, 128, kernel_size=(3, 3), stride=(1, 1), padding=(1, 1))\n",
       "  (bn2): BatchNorm2d(128, eps=1e-05, momentum=0.1, affine=True, track_running_stats=True)\n",
       "  (conv3): Conv2d(128, 256, kernel_size=(3, 3), stride=(1, 1), padding=(1, 1))\n",
       "  (bn3): BatchNorm2d(256, eps=1e-05, momentum=0.1, affine=True, track_running_stats=True)\n",
       "  (pool): MaxPool2d(kernel_size=2, stride=2, padding=0, dilation=1, ceil_mode=False)\n",
       "  (fc1): Linear(in_features=4096, out_features=1024, bias=True)\n",
       "  (bn_fc1): BatchNorm1d(1024, eps=1e-05, momentum=0.1, affine=True, track_running_stats=True)\n",
       "  (fc2): Linear(in_features=1024, out_features=10, bias=True)\n",
       ")"
      ]
     },
     "execution_count": 36,
     "metadata": {},
     "output_type": "execute_result"
    }
   ],
   "source": [
    "# Load the model architecture\n",
    "model = CNN()\n",
    "\n",
    "# Load the trained model's state dict\n",
    "model.load_state_dict(torch.load(\"best_model_final.pth\"))\n",
    "\n",
    "# Ensure the model is in evaluation mode\n",
    "model.eval()"
   ]
  },
  {
   "cell_type": "markdown",
   "metadata": {},
   "source": [
    "LATENCY OF PYTORCH MODEL"
   ]
  },
  {
   "cell_type": "code",
   "execution_count": 38,
   "metadata": {},
   "outputs": [
    {
     "name": "stdout",
     "output_type": "stream",
     "text": [
      "PyTorch Average Latency: 0.156344 seconds\n"
     ]
    }
   ],
   "source": [
    "import time\n",
    "import numpy as np\n",
    "import torch\n",
    "\n",
    "# Function to measure PyTorch latency with a batch of validation data\n",
    "def measure_pytorch_latency(model, data_loader, num_runs=100):\n",
    "    latencies = []\n",
    "    model.eval()\n",
    "    device = next(model.parameters()).device  # Get the device of the model\n",
    "    with torch.no_grad():\n",
    "        for _ in range(num_runs):\n",
    "            inputs, _ = next(iter(data_loader))  # Take a batch of validation data\n",
    "            inputs = inputs.to(device)  # Move inputs to the same device as the model\n",
    "            start_time = time.time()\n",
    "            _ = model(inputs)  # Forward pass\n",
    "            latencies.append(time.time() - start_time)\n",
    "    return latencies\n",
    "\n",
    "# Load your model (replace with your actual model)\n",
    "pytorch_latencies = measure_pytorch_latency(model, validation_loader)\n",
    "pytorch_avg_latency = np.mean(pytorch_latencies)\n",
    "\n",
    "print(f\"PyTorch Average Latency: {pytorch_avg_latency:.6f} seconds\")\n"
   ]
  },
  {
   "cell_type": "markdown",
   "metadata": {},
   "source": [
    "EXPORT PYTORCH TO ONNX"
   ]
  },
  {
   "cell_type": "code",
   "execution_count": 39,
   "metadata": {},
   "outputs": [
    {
     "name": "stdout",
     "output_type": "stream",
     "text": [
      "Model successfully exported to best_model_final.onnx\n"
     ]
    }
   ],
   "source": [
    "# Assuming the model is loaded as 'model' and 'validation_loader' is defined\n",
    "\n",
    "# Load a batch of validation data\n",
    "inputs, _ = next(iter(validation_loader))  # Get the first batch of data from the validation loader\n",
    "\n",
    "# Export the trained PyTorch model to ONNX using the validation batch\n",
    "onnx_path = \"best_model_final.onnx\"\n",
    "\n",
    "torch.onnx.export(\n",
    "    model,\n",
    "    inputs,  # Use the validation batch as input\n",
    "    onnx_path,\n",
    "    export_params=True,\n",
    "    opset_version=11,\n",
    "    input_names=[\"input\"],\n",
    "    output_names=[\"output\"]\n",
    ")\n",
    "\n",
    "print(f\"Model successfully exported to {onnx_path}\")\n"
   ]
  },
  {
   "cell_type": "code",
   "execution_count": 40,
   "metadata": {},
   "outputs": [],
   "source": [
    "import onnx\n",
    "model = onnx.load(\"best_model_final.onnx\")\n",
    "onnx.checker.check_model(model)\n"
   ]
  },
  {
   "cell_type": "markdown",
   "metadata": {},
   "source": [
    "CONVERT ONNX TO TENSORRT"
   ]
  },
  {
   "cell_type": "markdown",
   "metadata": {},
   "source": [
    "\n",
    "trtexec --onnx=best_model_final.onnx --saveEngine=best_model_final.trt --fp16"
   ]
  },
  {
   "cell_type": "markdown",
   "metadata": {},
   "source": [
    "LATENCY FOR TENSORRT"
   ]
  },
  {
   "cell_type": "code",
   "execution_count": 41,
   "metadata": {},
   "outputs": [
    {
     "name": "stdout",
     "output_type": "stream",
     "text": [
      "Average latency per batch: 0.014679 seconds\n"
     ]
    }
   ],
   "source": [
    "import time\n",
    "import numpy as np\n",
    "import torch\n",
    "import tensorrt as trt\n",
    "\n",
    "# Load the TensorRT engine\n",
    "def load_engine(engine_path):\n",
    "    runtime = trt.Runtime(trt.Logger(trt.Logger.WARNING))\n",
    "    try:\n",
    "        with open(engine_path, 'rb') as f:\n",
    "            engine = runtime.deserialize_cuda_engine(f.read())\n",
    "        if engine is None:\n",
    "            raise ValueError(\"Failed to deserialize the engine.\")\n",
    "        return engine\n",
    "    except Exception as e:\n",
    "        print(f\"Error loading engine: {e}\")\n",
    "        return None\n",
    "\n",
    "\n",
    "# Perform inference and measure latency\n",
    "def infer_and_measure_latency(engine, validation_loader):\n",
    "    context = engine.create_execution_context()\n",
    "    \n",
    "    # Lists to store input and output bindings\n",
    "    input_bindings = []\n",
    "    output_bindings = []\n",
    "    \n",
    "    # Iterate through all tensors in the engine\n",
    "    for i in range(engine.num_io_tensors):\n",
    "        tensor_name = engine.get_tensor_name(i)\n",
    "        size = trt.volume(engine.get_tensor_shape(tensor_name))  # Get the tensor size (volume)\n",
    "        dtype = trt.nptype(engine.get_tensor_dtype(tensor_name))  # Get the tensor data type\n",
    "        \n",
    "        # Check whether the tensor is an input or output\n",
    "        if engine.get_tensor_mode(tensor_name) == trt.TensorIOMode.INPUT:\n",
    "            input_bindings.append((tensor_name, size, dtype))\n",
    "        else:\n",
    "            output_bindings.append((tensor_name, size, dtype))\n",
    "    \n",
    "    # Assuming the input shape is (batch_size, 3, 32, 32) and output shape is (batch_size, 10)\n",
    "    # You may adjust this based on your model\n",
    "    input_binding = input_bindings[0]  # First input binding\n",
    "    output_binding = output_bindings[0]  # First output binding\n",
    "    \n",
    "    # Get the input shape directly from the engine\n",
    "    input_shape = engine.get_tensor_shape(input_binding[0])\n",
    "    batch_size = input_shape[0]  # The batch size is the first dimension\n",
    "    \n",
    "    # Get the output shape directly from the engine\n",
    "    output_shape = engine.get_tensor_shape(output_binding[0])\n",
    "\n",
    "    # Convert TensorRT Dims to tuple\n",
    "    input_shape_tuple = tuple(input_shape)\n",
    "    output_shape_tuple = tuple(output_shape)\n",
    "\n",
    "    # Allocate host and device buffers\n",
    "    d_input = torch.zeros(input_shape_tuple, dtype=torch.float32).cuda()  # Device input memory on GPU\n",
    "    d_output = torch.zeros(output_shape_tuple, dtype=torch.float32).cuda()  # Device output memory on GPU\n",
    "\n",
    "    latencies = []\n",
    "    for inputs, _ in validation_loader:\n",
    "        inputs = inputs.cuda()  # Move the inputs to GPU\n",
    "        \n",
    "        # Copy inputs to device memory\n",
    "        d_input.copy_(inputs)\n",
    "        \n",
    "        start_time = time.perf_counter()\n",
    "        context.execute_v2([d_input.data_ptr(), d_output.data_ptr()])  # Pass device memory pointers\n",
    "        end_time = time.perf_counter()\n",
    "        \n",
    "        latencies.append(end_time - start_time)\n",
    "    \n",
    "    avg_latency = np.mean(latencies)\n",
    "    return avg_latency\n",
    "\n",
    "# Example usage\n",
    "engine_path = \"best_model_final_1.trt\"\n",
    "engine = load_engine(engine_path)\n",
    "average_latency = infer_and_measure_latency(engine, validation_loader)\n",
    "print(f\"Average latency per batch: {average_latency:.6f} seconds\")\n"
   ]
  },
  {
   "cell_type": "markdown",
   "metadata": {},
   "source": [
    "COMPARISION"
   ]
  },
  {
   "cell_type": "code",
   "execution_count": 43,
   "metadata": {},
   "outputs": [
    {
     "data": {
      "image/png": "[encoded data removed]",
      "text/plain": [
       "<Figure size 640x480 with 1 Axes>"
      ]
     },
     "metadata": {},
     "output_type": "display_data"
    }
   ],
   "source": [
    "import matplotlib.pyplot as plt\n",
    "\n",
    "# Plot Latency Comparison\n",
    "plt.bar([\"PyTorch\", \"TensorRT\"], [pytorch_avg_latency , average_latency ], color=['blue', 'green'])\n",
    "plt.ylabel(\"Latency (s)\")\n",
    "plt.title(\"Latency Comparison: PyTorch vs TensorRT\")\n",
    "plt.show()\n"
   ]
  },
  {
   "cell_type": "markdown",
   "metadata": {},
   "source": [
    "ACCURACY VERIFICATION"
   ]
  },
  {
   "cell_type": "code",
   "execution_count": 44,
   "metadata": {},
   "outputs": [
    {
     "name": "stderr",
     "output_type": "stream",
     "text": [
      "C:\\Users\\7501\\AppData\\Local\\Temp\\ipykernel_21984\\1642900474.py:7: FutureWarning: You are using `torch.load` with `weights_only=False` (the current default value), which uses the default pickle module implicitly. It is possible to construct malicious pickle data which will execute arbitrary code during unpickling (See https://github.com/pytorch/pytorch/blob/main/SECURITY.md#untrusted-models for more details). In a future release, the default value for `weights_only` will be flipped to `True`. This limits the functions that could be executed during unpickling. Arbitrary objects will no longer be allowed to be loaded via this mode unless they are explicitly allowlisted by the user via `torch.serialization.add_safe_globals`. We recommend you start setting `weights_only=True` for any use case where you don't have full control of the loaded file. Please open an issue on GitHub for any issues related to this experimental feature.\n",
      "  model.load_state_dict(torch.load(\"best_model_final.pth\"))\n"
     ]
    },
    {
     "name": "stdout",
     "output_type": "stream",
     "text": [
      "PyTorch Model - Validation Loss: 0.5372, Validation Accuracy: 81.50%\n",
      "TensorRT Model - Validation Loss: 0.5372, Validation Accuracy: 81.50%\n"
     ]
    }
   ],
   "source": [
    "import torch\n",
    "import numpy as np\n",
    "import tensorrt as trt\n",
    "\n",
    "# Load the PyTorch model\n",
    "model = CNN()  # Replace with your model class\n",
    "model.load_state_dict(torch.load(\"best_model_final.pth\"))\n",
    "model.to(device)\n",
    "model.eval()\n",
    "\n",
    "# Load the TensorRT engine\n",
    "def load_trt_engine(engine_path):\n",
    "    runtime = trt.Runtime(trt.Logger(trt.Logger.WARNING))\n",
    "    try:\n",
    "        with open(engine_path, 'rb') as f:\n",
    "            engine = runtime.deserialize_cuda_engine(f.read())\n",
    "        if engine is None:\n",
    "            raise ValueError(\"Failed to deserialize the engine.\")\n",
    "        return engine\n",
    "    except Exception as e:\n",
    "        print(f\"Error loading engine: {e}\")\n",
    "        return None\n",
    "\n",
    "# Function to perform inference with the TensorRT engine\n",
    "def infer_with_trt(engine, validation_loader):\n",
    "    context = engine.create_execution_context()\n",
    "    \n",
    "    # Lists to store input and output bindings\n",
    "    input_bindings = []\n",
    "    output_bindings = []\n",
    "    \n",
    "    # Iterate through all tensors in the engine to retrieve input and output bindings\n",
    "    for i in range(engine.num_io_tensors):\n",
    "        tensor_name = engine.get_tensor_name(i)\n",
    "        size = trt.volume(engine.get_tensor_shape(tensor_name))  # Get tensor size (volume)\n",
    "        dtype = trt.nptype(engine.get_tensor_dtype(tensor_name))  # Get tensor data type\n",
    "        \n",
    "        # Classify the tensor as input or output\n",
    "        if engine.get_tensor_mode(tensor_name) == trt.TensorIOMode.INPUT:\n",
    "            input_bindings.append((tensor_name, size, dtype))\n",
    "        else:\n",
    "            output_bindings.append((tensor_name, size, dtype))\n",
    "    \n",
    "    # Assuming the first input and output binding\n",
    "    input_binding = input_bindings[0]  # First input binding\n",
    "    output_binding = output_bindings[0]  # First output binding\n",
    "    \n",
    "    # Get the input and output shapes directly from the engine\n",
    "    input_shape = engine.get_tensor_shape(input_binding[0])\n",
    "    batch_size = input_shape[0]  # Batch size is the first dimension\n",
    "    output_shape = engine.get_tensor_shape(output_binding[0])\n",
    "\n",
    "    # Convert TensorRT dims to tuple\n",
    "    input_shape_tuple = tuple(input_shape)\n",
    "    output_shape_tuple = tuple(output_shape)\n",
    "\n",
    "    # Allocate device buffers for input and output\n",
    "    d_input = torch.zeros(input_shape_tuple, dtype=torch.float32).cuda()  # Input buffer on GPU\n",
    "    d_output = torch.zeros(output_shape_tuple, dtype=torch.float32).cuda()  # Output buffer on GPU\n",
    "\n",
    "    running_loss = 0.0\n",
    "    running_corrects = 0.0\n",
    "    criterion = torch.nn.CrossEntropyLoss()  # Assuming classification task\n",
    "\n",
    "    for val_inputs, val_labels in validation_loader:\n",
    "        val_inputs = val_inputs.cuda()  # Move to GPU\n",
    "        val_labels = val_labels.cuda()  # Move to GPU\n",
    "\n",
    "        # Copy inputs to device memory\n",
    "        d_input.copy_(val_inputs)\n",
    "        \n",
    "        start_time = time.perf_counter()\n",
    "        \n",
    "        # Run inference\n",
    "        context.execute_v2([d_input.data_ptr(), d_output.data_ptr()])  # Pass device memory pointers\n",
    "        \n",
    "        end_time = time.perf_counter()\n",
    "        \n",
    "        # Convert output to CPU and calculate loss and accuracy\n",
    "        outputs = d_output.cuda()\n",
    "        loss = criterion(outputs, val_labels)\n",
    "        _, preds = torch.max(outputs, 1)\n",
    "\n",
    "        running_loss += loss.item() * val_inputs.size(0)\n",
    "        running_corrects += torch.sum(preds == val_labels.data)\n",
    "\n",
    "    # Calculate validation loss and accuracy\n",
    "    num_val_samples = len(validation_loader.dataset)\n",
    "    val_loss = running_loss / num_val_samples\n",
    "    val_acc = (running_corrects.float() / num_val_samples) * 100\n",
    "    \n",
    "    return val_loss, val_acc\n",
    "\n",
    "\n",
    "# Run inference with the PyTorch model\n",
    "def evaluate_pytorch_model():\n",
    "    val_running_loss = 0.0\n",
    "    val_running_corrects = 0.0\n",
    "    criterion = torch.nn.CrossEntropyLoss()\n",
    "    \n",
    "    with torch.no_grad():\n",
    "        for val_inputs, val_labels in validation_loader:\n",
    "            val_inputs = val_inputs.to(device)\n",
    "            val_labels = val_labels.to(device)\n",
    "            val_outputs = model(val_inputs)\n",
    "            val_loss = criterion(val_outputs, val_labels)\n",
    "            _, val_preds = torch.max(val_outputs, 1)\n",
    "\n",
    "            val_running_loss += val_loss.item() * val_inputs.size(0)\n",
    "            val_running_corrects += torch.sum(val_preds == val_labels.data)\n",
    "    \n",
    "    # Calculate validation loss and accuracy\n",
    "    num_val_samples = len(validation_loader.dataset)\n",
    "    val_loss = val_running_loss / num_val_samples\n",
    "    val_acc = (val_running_corrects.float() / num_val_samples) * 100\n",
    "\n",
    "    return val_loss, val_acc\n",
    "\n",
    "# Load TensorRT model and evaluate\n",
    "engine_path = \"best_model_final_1.trt\"\n",
    "engine = load_trt_engine(engine_path)\n",
    "val_loss_trt, val_acc_trt = infer_with_trt(engine, validation_loader)\n",
    "\n",
    "# Evaluate PyTorch model\n",
    "val_loss_pytorch, val_acc_pytorch = evaluate_pytorch_model()\n",
    "\n",
    "print(f\"PyTorch Model - Validation Loss: {val_loss_pytorch:.4f}, Validation Accuracy: {val_acc_pytorch:.2f}%\")\n",
    "print(f\"TensorRT Model - Validation Loss: {val_loss_trt:.4f}, Validation Accuracy: {val_acc_trt:.2f}%\")\n"
   ]
  },
  {
   "cell_type": "code",
   "execution_count": null,
   "metadata": {},
   "outputs": [],
   "source": []
  }
 ],
 "metadata": {
  "kernelspec": {
   "display_name": "Python 3",
   "language": "python",
   "name": "python3"
  },
  "language_info": {
   "codemirror_mode": {
    "name": "ipython",
    "version": 3
   },
   "file_extension": ".py",
   "mimetype": "text/x-python",
   "name": "python",
   "nbconvert_exporter": "python",
   "pygments_lexer": "ipython3",
   "version": "3.11.8"
  }
 },
 "nbformat": 4,
 "nbformat_minor": 2
}
